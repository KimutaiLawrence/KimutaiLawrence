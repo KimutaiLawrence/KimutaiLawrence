{
  "cells": [
    {
      "cell_type": "markdown",
      "metadata": {
        "id": "view-in-github",
        "colab_type": "text"
      },
      "source": [
        "<a href=\"https://colab.research.google.com/github/KimutaiLawrence/KimutaiLawrence/blob/main/DSAIL_Application_Lawrence.ipynb\" target=\"_parent\"><img src=\"https://colab.research.google.com/assets/colab-badge.svg\" alt=\"Open In Colab\"/></a>"
      ]
    },
    {
      "cell_type": "markdown",
      "source": [
        "TASK 1."
      ],
      "metadata": {
        "id": "UiFW6QNxWQjd"
      },
      "id": "UiFW6QNxWQjd"
    },
    {
      "cell_type": "markdown",
      "id": "2662988b",
      "metadata": {
        "id": "2662988b"
      },
      "source": [
        "Installing the required packages"
      ]
    },
    {
      "cell_type": "code",
      "source": [
        "!pip install pandas"
      ],
      "metadata": {
        "colab": {
          "base_uri": "https://localhost:8080/"
        },
        "id": "8LBiXe5wTn_O",
        "outputId": "b3629feb-7c2a-4c65-cfd5-3de393f99435"
      },
      "id": "8LBiXe5wTn_O",
      "execution_count": 1,
      "outputs": [
        {
          "output_type": "stream",
          "name": "stdout",
          "text": [
            "Requirement already satisfied: pandas in /usr/local/lib/python3.7/dist-packages (1.3.5)\n",
            "Requirement already satisfied: python-dateutil>=2.7.3 in /usr/local/lib/python3.7/dist-packages (from pandas) (2.8.2)\n",
            "Requirement already satisfied: numpy>=1.17.3 in /usr/local/lib/python3.7/dist-packages (from pandas) (1.21.5)\n",
            "Requirement already satisfied: pytz>=2017.3 in /usr/local/lib/python3.7/dist-packages (from pandas) (2018.9)\n",
            "Requirement already satisfied: six>=1.5 in /usr/local/lib/python3.7/dist-packages (from python-dateutil>=2.7.3->pandas) (1.15.0)\n"
          ]
        }
      ]
    },
    {
      "cell_type": "markdown",
      "source": [
        "Download the IRIS dataset from the site"
      ],
      "metadata": {
        "id": "70YdWZZ9TtxF"
      },
      "id": "70YdWZZ9TtxF"
    },
    {
      "cell_type": "code",
      "execution_count": 2,
      "id": "02a8e489",
      "metadata": {
        "colab": {
          "base_uri": "https://localhost:8080/",
          "height": 206
        },
        "id": "02a8e489",
        "outputId": "a353a458-3aa3-44e2-9dac-1178abb33364"
      },
      "outputs": [
        {
          "output_type": "execute_result",
          "data": {
            "text/plain": [
              "   sepal length  sepal width  petal length  petal width        class\n",
              "0           5.1          3.5           1.4          0.2  Iris-setosa\n",
              "1           4.9          3.0           1.4          0.2  Iris-setosa\n",
              "2           4.7          3.2           1.3          0.2  Iris-setosa\n",
              "3           4.6          3.1           1.5          0.2  Iris-setosa\n",
              "4           5.0          3.6           1.4          0.2  Iris-setosa"
            ],
            "text/html": [
              "\n",
              "  <div id=\"df-91d8100c-a36c-4e5d-bf8f-b87406bb9800\">\n",
              "    <div class=\"colab-df-container\">\n",
              "      <div>\n",
              "<style scoped>\n",
              "    .dataframe tbody tr th:only-of-type {\n",
              "        vertical-align: middle;\n",
              "    }\n",
              "\n",
              "    .dataframe tbody tr th {\n",
              "        vertical-align: top;\n",
              "    }\n",
              "\n",
              "    .dataframe thead th {\n",
              "        text-align: right;\n",
              "    }\n",
              "</style>\n",
              "<table border=\"1\" class=\"dataframe\">\n",
              "  <thead>\n",
              "    <tr style=\"text-align: right;\">\n",
              "      <th></th>\n",
              "      <th>sepal length</th>\n",
              "      <th>sepal width</th>\n",
              "      <th>petal length</th>\n",
              "      <th>petal width</th>\n",
              "      <th>class</th>\n",
              "    </tr>\n",
              "  </thead>\n",
              "  <tbody>\n",
              "    <tr>\n",
              "      <th>0</th>\n",
              "      <td>5.1</td>\n",
              "      <td>3.5</td>\n",
              "      <td>1.4</td>\n",
              "      <td>0.2</td>\n",
              "      <td>Iris-setosa</td>\n",
              "    </tr>\n",
              "    <tr>\n",
              "      <th>1</th>\n",
              "      <td>4.9</td>\n",
              "      <td>3.0</td>\n",
              "      <td>1.4</td>\n",
              "      <td>0.2</td>\n",
              "      <td>Iris-setosa</td>\n",
              "    </tr>\n",
              "    <tr>\n",
              "      <th>2</th>\n",
              "      <td>4.7</td>\n",
              "      <td>3.2</td>\n",
              "      <td>1.3</td>\n",
              "      <td>0.2</td>\n",
              "      <td>Iris-setosa</td>\n",
              "    </tr>\n",
              "    <tr>\n",
              "      <th>3</th>\n",
              "      <td>4.6</td>\n",
              "      <td>3.1</td>\n",
              "      <td>1.5</td>\n",
              "      <td>0.2</td>\n",
              "      <td>Iris-setosa</td>\n",
              "    </tr>\n",
              "    <tr>\n",
              "      <th>4</th>\n",
              "      <td>5.0</td>\n",
              "      <td>3.6</td>\n",
              "      <td>1.4</td>\n",
              "      <td>0.2</td>\n",
              "      <td>Iris-setosa</td>\n",
              "    </tr>\n",
              "  </tbody>\n",
              "</table>\n",
              "</div>\n",
              "      <button class=\"colab-df-convert\" onclick=\"convertToInteractive('df-91d8100c-a36c-4e5d-bf8f-b87406bb9800')\"\n",
              "              title=\"Convert this dataframe to an interactive table.\"\n",
              "              style=\"display:none;\">\n",
              "        \n",
              "  <svg xmlns=\"http://www.w3.org/2000/svg\" height=\"24px\"viewBox=\"0 0 24 24\"\n",
              "       width=\"24px\">\n",
              "    <path d=\"M0 0h24v24H0V0z\" fill=\"none\"/>\n",
              "    <path d=\"M18.56 5.44l.94 2.06.94-2.06 2.06-.94-2.06-.94-.94-2.06-.94 2.06-2.06.94zm-11 1L8.5 8.5l.94-2.06 2.06-.94-2.06-.94L8.5 2.5l-.94 2.06-2.06.94zm10 10l.94 2.06.94-2.06 2.06-.94-2.06-.94-.94-2.06-.94 2.06-2.06.94z\"/><path d=\"M17.41 7.96l-1.37-1.37c-.4-.4-.92-.59-1.43-.59-.52 0-1.04.2-1.43.59L10.3 9.45l-7.72 7.72c-.78.78-.78 2.05 0 2.83L4 21.41c.39.39.9.59 1.41.59.51 0 1.02-.2 1.41-.59l7.78-7.78 2.81-2.81c.8-.78.8-2.07 0-2.86zM5.41 20L4 18.59l7.72-7.72 1.47 1.35L5.41 20z\"/>\n",
              "  </svg>\n",
              "      </button>\n",
              "      \n",
              "  <style>\n",
              "    .colab-df-container {\n",
              "      display:flex;\n",
              "      flex-wrap:wrap;\n",
              "      gap: 12px;\n",
              "    }\n",
              "\n",
              "    .colab-df-convert {\n",
              "      background-color: #E8F0FE;\n",
              "      border: none;\n",
              "      border-radius: 50%;\n",
              "      cursor: pointer;\n",
              "      display: none;\n",
              "      fill: #1967D2;\n",
              "      height: 32px;\n",
              "      padding: 0 0 0 0;\n",
              "      width: 32px;\n",
              "    }\n",
              "\n",
              "    .colab-df-convert:hover {\n",
              "      background-color: #E2EBFA;\n",
              "      box-shadow: 0px 1px 2px rgba(60, 64, 67, 0.3), 0px 1px 3px 1px rgba(60, 64, 67, 0.15);\n",
              "      fill: #174EA6;\n",
              "    }\n",
              "\n",
              "    [theme=dark] .colab-df-convert {\n",
              "      background-color: #3B4455;\n",
              "      fill: #D2E3FC;\n",
              "    }\n",
              "\n",
              "    [theme=dark] .colab-df-convert:hover {\n",
              "      background-color: #434B5C;\n",
              "      box-shadow: 0px 1px 3px 1px rgba(0, 0, 0, 0.15);\n",
              "      filter: drop-shadow(0px 1px 2px rgba(0, 0, 0, 0.3));\n",
              "      fill: #FFFFFF;\n",
              "    }\n",
              "  </style>\n",
              "\n",
              "      <script>\n",
              "        const buttonEl =\n",
              "          document.querySelector('#df-91d8100c-a36c-4e5d-bf8f-b87406bb9800 button.colab-df-convert');\n",
              "        buttonEl.style.display =\n",
              "          google.colab.kernel.accessAllowed ? 'block' : 'none';\n",
              "\n",
              "        async function convertToInteractive(key) {\n",
              "          const element = document.querySelector('#df-91d8100c-a36c-4e5d-bf8f-b87406bb9800');\n",
              "          const dataTable =\n",
              "            await google.colab.kernel.invokeFunction('convertToInteractive',\n",
              "                                                     [key], {});\n",
              "          if (!dataTable) return;\n",
              "\n",
              "          const docLinkHtml = 'Like what you see? Visit the ' +\n",
              "            '<a target=\"_blank\" href=https://colab.research.google.com/notebooks/data_table.ipynb>data table notebook</a>'\n",
              "            + ' to learn more about interactive tables.';\n",
              "          element.innerHTML = '';\n",
              "          dataTable['output_type'] = 'display_data';\n",
              "          await google.colab.output.renderOutput(dataTable, element);\n",
              "          const docLink = document.createElement('div');\n",
              "          docLink.innerHTML = docLinkHtml;\n",
              "          element.appendChild(docLink);\n",
              "        }\n",
              "      </script>\n",
              "    </div>\n",
              "  </div>\n",
              "  "
            ]
          },
          "metadata": {},
          "execution_count": 2
        }
      ],
      "source": [
        "import pandas as pd\n",
        "\n",
        "data = pd.read_csv('http://archive.ics.uci.edu/ml/machine-learning-databases/iris/iris.data',header=None)\n",
        "data.columns = ['sepal length', 'sepal width', 'petal length', 'petal width', 'class']\n",
        "\n",
        "data.head()"
      ]
    },
    {
      "cell_type": "markdown",
      "source": [
        "Compute the mean, standard devi-\n",
        "ation, minimum and maximum of each attribute"
      ],
      "metadata": {
        "id": "DAC4lmHYUPiQ"
      },
      "id": "DAC4lmHYUPiQ"
    },
    {
      "cell_type": "code",
      "source": [
        "from pandas.api.types import is_numeric_dtype\n",
        "\n",
        "for col in data.columns:\n",
        "    if is_numeric_dtype(data[col]):\n",
        "        print('%s:' % (col))\n",
        "        print('\\t Mean = %.2f' % data[col].mean())\n",
        "        print('\\t Standard deviation = %.2f' % data[col].std())\n",
        "        print('\\t Minimum = %.2f' % data[col].min())\n",
        "        print('\\t Maximum = %.2f' % data[col].max())"
      ],
      "metadata": {
        "colab": {
          "base_uri": "https://localhost:8080/"
        },
        "id": "OUzThjhGUDcN",
        "outputId": "394238c9-7ae1-4a36-c802-4bc06dc5124b"
      },
      "id": "OUzThjhGUDcN",
      "execution_count": 3,
      "outputs": [
        {
          "output_type": "stream",
          "name": "stdout",
          "text": [
            "sepal length:\n",
            "\t Mean = 5.84\n",
            "\t Standard deviation = 0.83\n",
            "\t Minimum = 4.30\n",
            "\t Maximum = 7.90\n",
            "sepal width:\n",
            "\t Mean = 3.05\n",
            "\t Standard deviation = 0.43\n",
            "\t Minimum = 2.00\n",
            "\t Maximum = 4.40\n",
            "petal length:\n",
            "\t Mean = 3.76\n",
            "\t Standard deviation = 1.76\n",
            "\t Minimum = 1.00\n",
            "\t Maximum = 6.90\n",
            "petal width:\n",
            "\t Mean = 1.20\n",
            "\t Standard deviation = 0.76\n",
            "\t Minimum = 0.10\n",
            "\t Maximum = 2.50\n"
          ]
        }
      ]
    },
    {
      "cell_type": "markdown",
      "source": [
        "TASK 2."
      ],
      "metadata": {
        "id": "OQ9z8HsGWVO9"
      },
      "id": "OQ9z8HsGWVO9"
    },
    {
      "cell_type": "markdown",
      "source": [
        "Python script that reads and downloads the Apache license version(.txt file) from the web."
      ],
      "metadata": {
        "id": "g5Iz_hw7b1Y4"
      },
      "id": "g5Iz_hw7b1Y4"
    },
    {
      "cell_type": "code",
      "source": [
        "from typing import Text\n",
        "import requests\n",
        "url = 'https://www.apache.org/licenses/LICENSE-2.0.txt'\n",
        "r = requests.get(url, allow_redirects=True)\n",
        "d=open('apache.txt', 'wb')\n",
        "d.write(r.content)"
      ],
      "metadata": {
        "colab": {
          "base_uri": "https://localhost:8080/"
        },
        "id": "5sx94DvTY9ao",
        "outputId": "1c285f52-709e-41b4-d370-e9474955be1e"
      },
      "id": "5sx94DvTY9ao",
      "execution_count": 4,
      "outputs": [
        {
          "output_type": "execute_result",
          "data": {
            "text/plain": [
              "11358"
            ]
          },
          "metadata": {},
          "execution_count": 4
        }
      ]
    },
    {
      "cell_type": "markdown",
      "source": [
        "We now proceed to write a script that reads the text file and computes the frequency of vowels"
      ],
      "metadata": {
        "id": "3WEhIvJ21ycG"
      },
      "id": "3WEhIvJ21ycG"
    },
    {
      "cell_type": "code",
      "source": [
        "def countvowels():\n",
        "    f=open('apache.txt', 'r')\n",
        "    a=f.read()\n",
        "    numberofvowels = {}\n",
        "    for vowel in 'aeiouAEIOU':\n",
        "        count=a.count(vowel)\n",
        "        numberofvowels[vowel]=count\n",
        "    return numberofvowels\n",
        "print (countvowels ())\n"
      ],
      "metadata": {
        "colab": {
          "base_uri": "https://localhost:8080/"
        },
        "id": "wtX-8PAu1a_U",
        "outputId": "e074682c-93ef-492b-aa94-9872d7ce89db"
      },
      "id": "wtX-8PAu1a_U",
      "execution_count": 5,
      "outputs": [
        {
          "output_type": "stream",
          "name": "stdout",
          "text": [
            "{'a': 518, 'e': 833, 'i': 729, 'o': 729, 'u': 244, 'A': 26, 'E': 26, 'I': 40, 'O': 33, 'U': 10}\n"
          ]
        }
      ]
    },
    {
      "cell_type": "markdown",
      "source": [
        "TASK 3. \n",
        "Intergration"
      ],
      "metadata": {
        "id": "_-8cjBa3li7z"
      },
      "id": "_-8cjBa3li7z"
    },
    {
      "cell_type": "code",
      "source": [
        "import numpy as np"
      ],
      "metadata": {
        "id": "K108pugaoLcx"
      },
      "id": "K108pugaoLcx",
      "execution_count": 6,
      "outputs": []
    },
    {
      "cell_type": "markdown",
      "source": [
        "Thw scipy.intergrate libarary contains the function to calculate the integral using the quad function. The first value obtained is the integral while the second value is just an estimate."
      ],
      "metadata": {
        "id": "pZiMQyias6a0"
      },
      "id": "pZiMQyias6a0"
    },
    {
      "cell_type": "code",
      "execution_count": 7,
      "id": "6fd9e2ce",
      "metadata": {
        "id": "6fd9e2ce",
        "colab": {
          "base_uri": "https://localhost:8080/"
        },
        "outputId": "052422ab-238f-4249-a77b-032d41b8ceb9"
      },
      "outputs": [
        {
          "output_type": "stream",
          "name": "stdout",
          "text": [
            "(0.37341206640621355, 4.1457067379703625e-15)\n",
            "The first value is the INTEGRAL while the second value is an estimate of the absolute error in the value of an Integer\n"
          ]
        }
      ],
      "source": [
        "import scipy.integrate  \n",
        "from numpy import exp  \n",
        "f= lambda x:exp(-x**2) / 2\n",
        "i = scipy.integrate.quad(f, 0, 1)  \n",
        "print(i)  \n",
        "print('The first value is the INTEGRAL while the second value is an estimate of the absolute error in the value of an Integer')\n",
        "\n"
      ]
    }
  ],
  "metadata": {
    "kernelspec": {
      "display_name": "Python 3 (ipykernel)",
      "language": "python",
      "name": "python3"
    },
    "language_info": {
      "codemirror_mode": {
        "name": "ipython",
        "version": 3
      },
      "file_extension": ".py",
      "mimetype": "text/x-python",
      "name": "python",
      "nbconvert_exporter": "python",
      "pygments_lexer": "ipython3",
      "version": "3.10.2"
    },
    "colab": {
      "name": "DSAIL Application Lawrence.ipynb",
      "provenance": [],
      "collapsed_sections": [],
      "include_colab_link": true
    }
  },
  "nbformat": 4,
  "nbformat_minor": 5
}